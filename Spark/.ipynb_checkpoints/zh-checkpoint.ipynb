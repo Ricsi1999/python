{
 "cells": [
  {
   "cell_type": "code",
   "execution_count": 3,
   "id": "6786689e",
   "metadata": {},
   "outputs": [],
   "source": [
    "from pyspark import SparkConf\n",
    "from pyspark import SparkContext\n",
    "\n",
    "conf = SparkConf()\n",
    "sc = SparkContext(conf=conf)"
   ]
  },
  {
   "cell_type": "code",
   "execution_count": 95,
   "id": "9f4f2a09",
   "metadata": {},
   "outputs": [
    {
     "data": {
      "text/plain": [
       "[('kenyer', 108), ('cukor', 68), ('tej', 64)]"
      ]
     },
     "execution_count": 95,
     "metadata": {},
     "output_type": "execute_result"
    }
   ],
   "source": [
    "#A vasarlasok.txt egy kiskereskedelmi áruházban megvásárolt termékeket tartalmazzák.\n",
    "#Minden sor egy vásárló kosarában lévő termékeket sorolja fel, vesszővel elválasztva.\n",
    "#Határozd meg azt a három terméket, amelyekből a legtöbbet vásárolták és add meg hányat.\n",
    "#Figyelj oda arra, hogy az adathalmazban kis és nagy betűk is előfordulhatnak.\n",
    "#Azaz előfordulhat a \"rizs\" és a \"Rizs\" termék is. Ezeket azonos termékeknek kell tekintened.\n",
    "\n",
    "lines = sc.textFile(\"vasarlasok.txt\")\\\n",
    ".flatMap(lambda x : x.split(\",\"))\\\n",
    ".map(lambda word: (word.lower(), 1))\\\n",
    ".reduceByKey(lambda a, b: a + b)\\\n",
    ".sortBy(lambda x: x[1], False)\n",
    "\n",
    "lines.take(3)"
   ]
  },
  {
   "cell_type": "code",
   "execution_count": 93,
   "id": "57efb9f7",
   "metadata": {},
   "outputs": [
    {
     "data": {
      "text/plain": [
       "[('elte.hu', 5, 54)]"
      ]
     },
     "execution_count": 93,
     "metadata": {},
     "output_type": "execute_result"
    }
   ],
   "source": [
    "#A weboldalak.txt weboldalakat és azok szöveges tartalmát tartalmazza.\n",
    "#Minden sor egy weboldal címével kezdődik, aztán pedig a tartalma következik.\n",
    "#A felhasználónk az \"ELTE\" kifejezésre keres rá, nekünk pedig vissza kell adnunk számára a legrelevánsabb találatot.\n",
    "#Határozod meg, hogy a weboldalak.txt-ben található weboldalak közül melyikben szerepel legtöbbször a keresett kifejezés.\n",
    "#Csak azokat a weboldalakat vedd figyelembe, amelyek tartalma több, mint 10 szóból áll.\n",
    "#A programod írja ki azt a weboldalt, amelyekikben a legtöbbször szerepel a keresett kifejezés.\n",
    "#Add meg továbbá a keresett kifejezés előfordulásainak a számát és a weboldal tartalmában lévő szavak számát is.\n",
    "\n",
    "def count(line):\n",
    "    wordcount = 0\n",
    "    url = line[0]\n",
    "    if len(line) > 10:\n",
    "        for word in line:\n",
    "            if \"ELTE\" in word:\n",
    "                wordcount = wordcount + 1\n",
    "\n",
    "    return (url, wordcount, len(line))\n",
    "\n",
    "text = sc.textFile(\"weboldalak.txt\")\\\n",
    ".map(lambda x : x.split(\" \"))\\\n",
    ".map(count)\\\n",
    ".sortBy(lambda x: x[1], False)\n",
    "\n",
    "text.take(1)"
   ]
  },
  {
   "cell_type": "code",
   "execution_count": 5,
   "id": "676e586b",
   "metadata": {},
   "outputs": [],
   "source": [
    "from pyspark.sql import SparkSession\n",
    "from pyspark.sql.functions import *\n",
    "\n",
    "spark = SparkSession.builder.getOrCreate()"
   ]
  },
  {
   "cell_type": "code",
   "execution_count": 6,
   "id": "de89928f",
   "metadata": {},
   "outputs": [],
   "source": [
    "books = spark.read.format(\"csv\")\\\n",
    ".option('header', True)\\\n",
    ".option(\"inferschema\", True)\\\n",
    ".load(\"books.csv\")\n",
    "\n",
    "orders = spark.read.format(\"csv\")\\\n",
    ".option('header', True)\\\n",
    ".option(\"inferschema\", True)\\\n",
    ".load(\"orders.csv\")\n",
    "\n",
    "books.createOrReplaceTempView(\"booksTable\")\n",
    "orders.createOrReplaceTempView(\"ordersTable\")"
   ]
  },
  {
   "cell_type": "code",
   "execution_count": 13,
   "id": "4a96821a",
   "metadata": {},
   "outputs": [
    {
     "name": "stdout",
     "output_type": "stream",
     "text": [
      "+--------------------+-----+\n",
      "|              author|count|\n",
      "+--------------------+-----+\n",
      "|     Garcia Santiago| 1479|\n",
      "|Shelley Admont, K...|  228|\n",
      "|       James Manning|  180|\n",
      "+--------------------+-----+\n",
      "only showing top 3 rows\n",
      "\n"
     ]
    }
   ],
   "source": [
    "#Add meg azt a három szerzőt (author), akik a legtöbb könyvet írták (a null nem számít szerzőnek).\n",
    "\n",
    "books.filter(col(\"author\").isNotNull()).groupBy(\"author\").count().orderBy(col(\"count\").desc()).show(3)"
   ]
  },
  {
   "cell_type": "code",
   "execution_count": 19,
   "id": "aaa59a55",
   "metadata": {},
   "outputs": [
    {
     "name": "stdout",
     "output_type": "stream",
     "text": [
      "+-----------------+\n",
      "|  avg(sum(click))|\n",
      "+-----------------+\n",
      "|1.655570384913763|\n",
      "+-----------------+\n",
      "\n"
     ]
    }
   ],
   "source": [
    "#Add meg, hogy a felhasználók munkameneteiben (sessionID) átlagosan hány kattintás történik.\n",
    "\n",
    "orders.groupBy(\"sessionID\").sum(\"click\").select(avg(col(\"sum(click)\"))).show()"
   ]
  },
  {
   "cell_type": "code",
   "execution_count": 33,
   "id": "bf8b52a8",
   "metadata": {},
   "outputs": [
    {
     "name": "stdout",
     "output_type": "stream",
     "text": [
      "+--------------------+----------+\n",
      "|               title|sum(order)|\n",
      "+--------------------+----------+\n",
      "|Rico, Oskar und d...|       170|\n",
      "+--------------------+----------+\n",
      "only showing top 1 row\n",
      "\n"
     ]
    }
   ],
   "source": [
    "#Melyik könyvből vásárolták meg a legtöbbet? Add meg a könyv címét, és a megvásárolt könyvek darabszámát.\n",
    "\n",
    "orders.alias('o').join(books.alias('b'), col('o.itemID') == col('b.itemID'), 'inner')\\\n",
    ".groupBy(\"title\").sum(\"order\").orderBy(col(\"sum(order)\").desc()).show(1)"
   ]
  },
  {
   "cell_type": "code",
   "execution_count": 7,
   "id": "777b40d9",
   "metadata": {},
   "outputs": [
    {
     "name": "stdout",
     "output_type": "stream",
     "text": [
      "+-----+------+--------------------+------------------+--------------------+\n",
      "|rowID|itemID|               title|            author|           publisher|\n",
      "+-----+------+--------------------+------------------+--------------------+\n",
      "|    0| 21310|Princess Poppy: T...|Janey Louise Jones|Penguin Random Ho...|\n",
      "|    1| 73018|Einfach zeichnen!...|     Wiebke Krabbe|Schwager und Stei...|\n",
      "|    2| 19194|         Red Queen 1|  Victoria Aveyard|Orion Publishing ...|\n",
      "|    3| 40250|Meine Kindergarte...|              null|    Ars Edition GmbH|\n",
      "|    4| 46107|Mein großes Schab...| Elizabeth Golding|Edition Michael F...|\n",
      "|    5| 34217|        Ewig geliebt|        J. R. Ward|   Heyne Taschenbuch|\n",
      "|    6| 31436| Meine Sticker-Tiere|              null|    Ars Edition GmbH|\n",
      "|    7| 14576|Unsterblich 01 - ...|      Julie Kagawa|   Heyne Taschenbuch|\n",
      "|    8| 17731|Unsterblich 02 - ...|      Julie Kagawa|   Heyne Taschenbuch|\n",
      "|    9| 58723|Pedro und die Bet...|     Ursula Hasler|dtv Verlagsgesell...|\n",
      "|   10| 73124|Freundebuch - Ein...|              null|        Coppenrath F|\n",
      "|   11| 33976|     Die Haushörerin|     Anna Lummfeld|     Books on Demand|\n",
      "|   12|  2408|Reiter der schwar...|       Swen Harder|    Mantikore Verlag|\n",
      "|   13| 30277|WAS IST WAS Quiz ...|    Lorena Lehnert|     Tessloff Verlag|\n",
      "|   14| 29508|WAS IST WAS Quiz ...|  Carolin Langbein|     Tessloff Verlag|\n",
      "|   15| 75659|WAS IST WAS Quiz ...|    Lorena Lehnert|     Tessloff Verlag|\n",
      "|   16| 55699|Spring in eine Pf...|    ViktoriaSarina|CE Community Edit...|\n",
      "|   17| 62433|   Und dann kamst du|       Heike Abidi|Oetinger Taschenb...|\n",
      "|   18| 72603|Ich hab einen Fre...|    Ralf Butschkow| Carlsen Verlag GmbH|\n",
      "|   19| 11989|  Vampire Academy 06|     Richelle Mead|                 LYX|\n",
      "+-----+------+--------------------+------------------+--------------------+\n",
      "only showing top 20 rows\n",
      "\n"
     ]
    }
   ],
   "source": [
    "books.show()"
   ]
  },
  {
   "cell_type": "code",
   "execution_count": 8,
   "id": "45334d21",
   "metadata": {},
   "outputs": [
    {
     "name": "stdout",
     "output_type": "stream",
     "text": [
      "+-----+---------+------+-----+------+-----+\n",
      "|rowID|sessionID|itemID|click|basket|order|\n",
      "+-----+---------+------+-----+------+-----+\n",
      "|    0|        0| 21310|    1|     0|    0|\n",
      "|    1|        1| 73018|    1|     0|    0|\n",
      "|    2|        2| 19194|    1|     0|    0|\n",
      "|    3|        3| 40250|    1|     0|    0|\n",
      "|    4|        4| 46107|    1|     0|    0|\n",
      "|    5|        5| 34217|    1|     0|    0|\n",
      "|    6|        6| 31436|    1|     0|    0|\n",
      "|    7|        7| 14576|    1|     1|    0|\n",
      "|    8|        7| 17731|    2|     1|    0|\n",
      "|    9|        8| 58723|    1|     0|    0|\n",
      "|   10|        9| 73124|    1|     0|    0|\n",
      "|   11|       10| 33976|    1|     0|    0|\n",
      "|   12|       11|  2408|    2|     0|    0|\n",
      "|   13|       12| 30277|    1|     0|    0|\n",
      "|   14|       12| 29508|    1|     1|    0|\n",
      "|   15|       12| 75659|    1|     0|    0|\n",
      "|   16|       13| 55699|    2|     0|    0|\n",
      "|   17|       13| 62433|    1|     0|    0|\n",
      "|   18|       13| 72603|    1|     0|    0|\n",
      "|   19|       14| 11989|    1|     0|    0|\n",
      "+-----+---------+------+-----+------+-----+\n",
      "only showing top 20 rows\n",
      "\n"
     ]
    }
   ],
   "source": [
    "orders.show()"
   ]
  },
  {
   "cell_type": "code",
   "execution_count": null,
   "id": "7f7562c6",
   "metadata": {},
   "outputs": [],
   "source": []
  }
 ],
 "metadata": {
  "kernelspec": {
   "display_name": "Python 3 (ipykernel)",
   "language": "python",
   "name": "python3"
  },
  "language_info": {
   "codemirror_mode": {
    "name": "ipython",
    "version": 3
   },
   "file_extension": ".py",
   "mimetype": "text/x-python",
   "name": "python",
   "nbconvert_exporter": "python",
   "pygments_lexer": "ipython3",
   "version": "3.10.7"
  }
 },
 "nbformat": 4,
 "nbformat_minor": 5
}
